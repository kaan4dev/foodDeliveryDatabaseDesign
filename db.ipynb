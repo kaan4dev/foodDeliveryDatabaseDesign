  {
 "cells": [
  {
   "cell_type": "markdown",
   "metadata": {},
   "source": [
    "## Features"
   ]
  },
  {
   "cell_type": "markdown",
   "metadata": {},
   "source": [
    "1. Place order: Customers can choose a restaurant and place an order for food from the restaurant\n",
    "2. Menu items: Each restaurant has different menu items and prices. Out of scope - customising the order by adding and removing ingredients\n",
    "3. Delivery time: Customers can specify a delivery time, either ASAP (when the order is placed) or at a future time\n",
    "4. Delivery address: Customers can store multiple delivery addresses on their profile\n",
    "5. Order status: Restaurants can accept the order and update the status of the order as it is made\n",
    "6. Assign order: Delivery drivers can pick an order to deliver to assign it to themselves\n",
    "7. Pick up order: Delivery drivers can pick up an order that is ready from the restaurant and deliver it to the customer\n",
    "8. Ratings: Customers can rate delivery drivers and restaurants"
   ]
  },
  {
   "cell_type": "markdown",
   "metadata": {},
   "source": [
    "#### My Design"
   ]
  },
  {
   "cell_type": "code",
   "execution_count": null,
   "metadata": {
    "vscode": {
     "languageId": "plaintext"
    }
   },
   "outputs": [],
   "source": [
    "Table Customer\n",
    "{\n",
    "    customerID int [primary key]\n",
    "    firstName varchar\n",
    "    lastName varchar\n",
    "}\n",
    "\n",
    "Table Restaurant\n",
    "{\n",
    "    restaurantID int [primary key]\n",
    "    addressID int [foreign key]  // Fixed spelling (Adress -> Address)\n",
    "    restaurantName varchar\n",
    "}\n",
    "\n",
    "Table Order\n",
    "{\n",
    "    orderID int [primary key]\n",
    "    customerID int [foreign key]  // Foreign key to Customer\n",
    "    restaurantID int [foreign key]  // Foreign key to Restaurant\n",
    "    customerAddressID int [foreign key]  // Fixed spelling (Adress -> Address)\n",
    "    orderStatusID int [foreign key]  // Foreign key to OrderStatus\n",
    "    orderDriverID int [foreign key]  // Foreign key to OrderDriver\n",
    "    orderDateTime timestamp\n",
    "    orderPrice double\n",
    "    deliveryTime timestamp\n",
    "    driverRatingGiven float \n",
    "    restaurantRatingGiven float\n",
    "}\n",
    "\n",
    "Table OrderStatus\n",
    "{\n",
    "    orderStatusID int [primary key]\n",
    "    statusName varchar  // Added column to store status names like \"Pending\", \"Delivered\"\n",
    "}\n",
    "\n",
    "Table OrderDriver\n",
    "{\n",
    "    orderDriverID int [primary key]\n",
    "    driverName varchar  // Added column for driver details\n",
    "}\n",
    "\n",
    "Table MenuItem\n",
    "{\n",
    "    menuItemID int [primary key]\n",
    "    restaurantID int [foreign key]  // Foreign key to Restaurant\n",
    "    menuItemName varchar\n",
    "    menuItemPrice double  // Added data type\n",
    "}\n",
    "\n",
    "Table OrderedMenuItem\n",
    "{\n",
    "    orderedMenuItemID int [primary key]\n",
    "    orderID int [foreign key]  // Foreign key to Order\n",
    "    menuItemID int [foreign key]  // Foreign key to MenuItem\n",
    "    menuItemQuantity int  // Fixed spelling (menuItemquantity -> menuItemQuantity)\n",
    "}\n",
    "\n",
    "Table Address \n",
    "{\n",
    "    addressID int [primary key]  // Fixed spelling (Adress -> Address)\n",
    "    addressInformations varchar\n",
    "}\n",
    "\n",
    "Table CustomerAddress \n",
    "{\n",
    "    customerAddressID int [primary key]  // Fixed spelling (customerAdressId -> customerAddressID)\n",
    "    customerID int [foreign key]  // Foreign key to Customer\n",
    "    addressID int [foreign key]  // Foreign key to Address\n",
    "}\n",
    "\n",
    "Ref: Order.customerID > Customer.customerID\n",
    "Ref: Order.restaurantID > Restaurant.restaurantID\n",
    "Ref: Order.customerAddressID > CustomerAddress.customerAddressID\n",
    "Ref: Order.orderStatusID > OrderStatus.orderStatusID\n",
    "Ref: Order.orderDriverID > OrderDriver.orderDriverID\n",
    "Ref: MenuItem.restaurantID > Restaurant.restaurantID\n",
    "Ref: OrderedMenuItem.orderID > Order.orderID\n",
    "Ref: OrderedMenuItem.menuItemID > MenuItem.menuItemID\n",
    "Ref: CustomerAddress.customerID > Customer.customerID\n",
    "Ref: CustomerAddress.addressID > Address.addressID"
   ]
  }
 ],
 "metadata": {
  "language_info": {
   "name": "python"
  }
 },
 "nbformat": 4,
 "nbformat_minor": 2
}
